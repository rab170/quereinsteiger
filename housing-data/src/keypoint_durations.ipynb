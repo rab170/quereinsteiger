{
 "cells": [
  {
   "cell_type": "code",
   "execution_count": 1,
   "metadata": {
    "collapsed": true
   },
   "outputs": [],
   "source": [
    "import os\n",
    "import json\n",
    "import time\n",
    "import glob\n",
    "import requests\n",
    "import numpy as np\n",
    "import pandas as pd\n",
    "from geopy.distance import vincenty"
   ]
  },
  {
   "cell_type": "code",
   "execution_count": 2,
   "metadata": {
    "collapsed": false
   },
   "outputs": [],
   "source": [
    "API_KEY = ''\n",
    "\n",
    "keypoints = {'Broadway-Lafayette': (40.725297, -73.995109),\n",
    "             'Union Square' : (40.735289, -73.990705),\n",
    "             '59th and Lex' : (40.762855, -73.967956),\n",
    "             'Atlantic Ave' : (40.683475, -73.975669),\n",
    "             'Grand Central': (40.752698, -73.977506)}\n",
    "\n",
    "station_map = {'318-320 Lafayette St, New York, NY 10012, USA':'Broadway-Lafayette',\n",
    "               '131 E 60th St, New York, NY 10022, USA':'59th and Lex',\n",
    "               '190 Park Ave Viaduct, New York, NY 10017, USA':'Grand Central',\n",
    "               '623-625 Atlantic Ave, Brooklyn, NY 11217, USA':'Atlantic Ave',\n",
    "               '4 Union Square E, New York, NY 10003, USA':'Union Square'}\n",
    "\n",
    "destinations = map(lambda v: '{0},{1}'.format(*v), keypoints.values())\n",
    "destinations = '|'.join(destinations)\n",
    "\n",
    "template =  'https://maps.googleapis.com/maps/api/distancematrix/json?' \\\n",
    "            'units=metric&' \\\n",
    "            'origins={lat},{long}&' \\\n",
    "            'destinations={destinations}&' \\\n",
    "            'key={API_KEY}'"
   ]
  },
  {
   "cell_type": "code",
   "execution_count": 8,
   "metadata": {
    "collapsed": false
   },
   "outputs": [],
   "source": [
    "output_dir = '../data/keypoints/'\n",
    "train=pd.read_json('../data/train.json')\n",
    "train.source = 'train'\n",
    "test=pd.read_json('../data/test.json')\n",
    "test.source = 'test'\n",
    "data = pd.concat([train, test]) \n",
    "\n",
    "existing_IDs = glob.glob(output_dir + '*.json')\n",
    "existing_IDs = [os.path.basename(path).replace('.json', '') for path in existing_IDs]\n",
    "existing_IDs = [int(listing_id) for listing_id in existing_IDs]\n",
    "data = data[~data.listing_id.isin(existing_IDs)].iloc[0:5]"
   ]
  },
  {
   "cell_type": "code",
   "execution_count": 9,
   "metadata": {
    "collapsed": false
   },
   "outputs": [],
   "source": [
    "n = 0\n",
    "for index, row in data.iterrows():\n",
    "    apt_coord = (row.latitude, row.longitude)\n",
    "    \n",
    "    args = {'lat': apt_coord[0],\n",
    "            'long': apt_coord[1],\n",
    "            'destinations':destinations,\n",
    "            'API_KEY':API_KEY}    \n",
    "    \n",
    "    url = template.format(**args)\n",
    "    response = requests.get(url)\n",
    "    response = json.loads(response.content)\n",
    "    if response['status'] == 'REQUEST_DENIED': \n",
    "        print url, '\\n', response\n",
    "        break\n",
    "        \n",
    "    durations = response['rows'][0]['elements']\n",
    "    stations  = map(lambda address: station_map[address], response['destination_addresses'])\n",
    "    durations = map(lambda elem: {'station':elem[0],'dist':elem[1]['distance']['value'], \n",
    "                                  'time':elem[1]['duration']['value']},\n",
    "                    zip(stations, durations))\n",
    "    \n",
    "    f = os.path.join(output_dir, '{0}.json'.format(row.listing_id))\n",
    "    with open(f, 'w+') as f: json.dump(durations, f)\n",
    "\n",
    "    n+=1\n",
    "    if n == 3500:\n",
    "        break"
   ]
  }
 ],
 "metadata": {
  "kernelspec": {
   "display_name": "Python 2",
   "language": "python",
   "name": "python2"
  },
  "language_info": {
   "codemirror_mode": {
    "name": "ipython",
    "version": 2
   },
   "file_extension": ".py",
   "mimetype": "text/x-python",
   "name": "python",
   "nbconvert_exporter": "python",
   "pygments_lexer": "ipython2",
   "version": "2.7.11"
  }
 },
 "nbformat": 4,
 "nbformat_minor": 2
}

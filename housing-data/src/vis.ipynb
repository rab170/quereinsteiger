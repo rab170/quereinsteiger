{
 "cells": [
  {
   "cell_type": "code",
   "execution_count": 71,
   "metadata": {
    "collapsed": true
   },
   "outputs": [],
   "source": [
    "import numpy as np\n",
    "import pandas as pd\n",
    "import matplotlib.pyplot as plt\n",
    "\n",
    "from geopy.distance import vincenty\n",
    "\n",
    "%matplotlib inline "
   ]
  },
  {
   "cell_type": "code",
   "execution_count": 2,
   "metadata": {
    "collapsed": true
   },
   "outputs": [],
   "source": [
    "nyc_long = (-73.75, -74.05)\n",
    "nyc_lat = (40.4, 40.9)\n",
    "\n",
    "train=pd.read_json('../data/train.json')\n",
    "test=pd.read_json('../data/test.json')\n",
    "train[\"Source\"]='train'\n",
    "test[\"Source\"]='test'\n",
    "data=pd.concat([train, test]) "
   ]
  },
  {
   "cell_type": "code",
   "execution_count": 3,
   "metadata": {
    "collapsed": true
   },
   "outputs": [],
   "source": [
    "# Enforce bounding box around city. \n",
    "# Some rentals have (long, lat) = (0, 0). \n",
    "# Others are in random parts of the US.\n",
    "\n",
    "data = data[(data.longitude > min(nyc_long)) & \n",
    "            (data.longitude < max(nyc_long)) &\n",
    "            (data.latitude > min(nyc_lat))   & \n",
    "            (data.latitude < max(nyc_lat))]"
   ]
  },
  {
   "cell_type": "code",
   "execution_count": 11,
   "metadata": {
    "collapsed": false
   },
   "outputs": [
    {
     "name": "stdout",
     "output_type": "stream",
     "text": [
      "<class 'pandas.core.frame.DataFrame'>\n",
      "Int64Index: 123751 entries, 10 to 99999\n",
      "Data columns (total 16 columns):\n",
      "Source             123751 non-null object\n",
      "bathrooms          123751 non-null float64\n",
      "bedrooms           123751 non-null int64\n",
      "building_id        123751 non-null object\n",
      "created            123751 non-null object\n",
      "description        123751 non-null object\n",
      "display_address    123751 non-null object\n",
      "features           123751 non-null object\n",
      "interest_level     49249 non-null object\n",
      "latitude           123751 non-null float64\n",
      "listing_id         123751 non-null int64\n",
      "longitude          123751 non-null float64\n",
      "manager_id         123751 non-null object\n",
      "photos             123751 non-null object\n",
      "price              123751 non-null int64\n",
      "street_address     123751 non-null object\n",
      "dtypes: float64(3), int64(3), object(10)\n",
      "memory usage: 16.1+ MB\n"
     ]
    }
   ],
   "source": [
    "data.info()"
   ]
  },
  {
   "cell_type": "code",
   "execution_count": 92,
   "metadata": {
    "collapsed": false
   },
   "outputs": [],
   "source": [
    "a = data[data.listing_id==7742631]\n",
    "b = data[data.listing_id==7129774]"
   ]
  },
  {
   "cell_type": "code",
   "execution_count": 98,
   "metadata": {
    "collapsed": false
   },
   "outputs": [
    {
     "ename": "TypeError",
     "evalue": "get_value() takes at least 2 arguments (1 given)",
     "output_type": "error",
     "traceback": [
      "\u001b[0;31m---------------------------------------------------------------------------\u001b[0m",
      "\u001b[0;31mTypeError\u001b[0m                                 Traceback (most recent call last)",
      "\u001b[0;32m<ipython-input-98-624ee2463329>\u001b[0m in \u001b[0;36m<module>\u001b[0;34m()\u001b[0m\n\u001b[0;32m----> 1\u001b[0;31m \u001b[0mc\u001b[0m\u001b[0;34m=\u001b[0m \u001b[0ma\u001b[0m\u001b[0;34m[\u001b[0m\u001b[0;34m'longitude'\u001b[0m\u001b[0;34m]\u001b[0m\u001b[0;34m.\u001b[0m\u001b[0mget_value\u001b[0m\u001b[0;34m(\u001b[0m\u001b[0;34m)\u001b[0m\u001b[0;34m\u001b[0m\u001b[0m\n\u001b[0m",
      "\u001b[0;31mTypeError\u001b[0m: get_value() takes at least 2 arguments (1 given)"
     ]
    }
   ],
   "source": [
    "c= a['longitude'].get_value()"
   ]
  },
  {
   "cell_type": "code",
   "execution_count": null,
   "metadata": {
    "collapsed": true
   },
   "outputs": [],
   "source": []
  }
 ],
 "metadata": {
  "kernelspec": {
   "display_name": "Python 2",
   "language": "python",
   "name": "python2"
  },
  "language_info": {
   "codemirror_mode": {
    "name": "ipython",
    "version": 2
   },
   "file_extension": ".py",
   "mimetype": "text/x-python",
   "name": "python",
   "nbconvert_exporter": "python",
   "pygments_lexer": "ipython2",
   "version": "2.7.11"
  }
 },
 "nbformat": 4,
 "nbformat_minor": 2
}

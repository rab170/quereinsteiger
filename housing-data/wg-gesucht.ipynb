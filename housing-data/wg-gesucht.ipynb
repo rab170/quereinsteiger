{
 "cells": [
  {
   "cell_type": "code",
   "execution_count": 2,
   "metadata": {
    "collapsed": true
   },
   "outputs": [],
   "source": [
    "import re\n",
    "import requests\n",
    "import pandas as pd\n",
    "from pyquery import PyQuery as pq\n",
    "from collections import namedtuple\n",
    "\n",
    "from IPython.core.display import display, HTML\n",
    "\n",
    "pd.set_option('display.max_colwidth', -1)"
   ]
  },
  {
   "cell_type": "code",
   "execution_count": null,
   "metadata": {
    "collapsed": true
   },
   "outputs": [],
   "source": [
    "def parse_tr(tr):\n",
    "    tds = [td.text_content().strip() for td in e.findall('td')][2:]\n",
    "    tds.append('http://wg-gesucht.de/' + tr.attrib['adid'])\n",
    "    return tds"
   ]
  },
  {
   "cell_type": "code",
   "execution_count": null,
   "metadata": {
    "collapsed": true
   },
   "outputs": [],
   "source": [
    "url_template = {'einzimmer':'http://www.wg-gesucht.de/1-zimmer-wohnungen-in-Hamburg.55.1.0.{page}.html?offer_filter=1&city_id=55&category=1&rent_type=2&rMax=750&img_only=1',\n",
    "                'wohnung':'http://www.wg-gesucht.de/wohnungen-in-Hamburg.55.2.0.{page}.html?offer_filter=1&sort_column=0&city_id=55&category=2&rent_type=2&rMax=750&img_only=1'}\n",
    "\n",
    "cookies = {'einzimmer':None, 'wohnung':None}\n",
    "\n",
    "listing_types = ['einzimmer', 'wohnung']\n",
    "einzimmer = ['price', 'area', 'borough', 'frei_ab', 'frei_bis', 'url']\n",
    "wohnung = [ 'date', 'price', 'area', 'borough', 'frei_ab', 'frei_bis', 'url']\n",
    "page_format = {'einzimmer':einzimmer, 'wohnung':wohnung}"
   ]
  },
  {
   "cell_type": "code",
   "execution_count": null,
   "metadata": {
    "collapsed": true,
    "scrolled": false
   },
   "outputs": [],
   "source": [
    "dfs = []\n",
    "for wohnung_typ in listing_types:\n",
    "    for i in range(5):\n",
    "        url = url_template[wohnung_typ].format(**{'page':i})\n",
    "        res = requests.get(url, cookies=cookies[wohnung_typ])\n",
    "        cookies[wohnung_typ] = res.cookies\n",
    "        \n",
    "        d = pq(res.text)        \n",
    "        trs = d('#table-compact-list tr').not_('.inlistTeaser')[2:]\n",
    "        ids = [tr.attrib['adid'] for tr in trs]\n",
    "        \n",
    "        data = [{k:v for k, v in zip(page_format[wohnung_typ], parse_tr(e))} for e in trs]\n",
    "        df = pd.DataFrame(data, columns=page_format[wohnung_typ])\n",
    "        inactive = (df.frei_ab == 'aktuell') & (df.frei_bis == 'vermietet')\n",
    "        df = df[~inactive]\n",
    "        df['wohnung_typ'] = wohnung_typ\n",
    "        dfs.append(df)\n",
    "        if any(inactive): break\n",
    "df = pd.concat(dfs, ignore_index=True)"
   ]
  },
  {
   "cell_type": "code",
   "execution_count": null,
   "metadata": {
    "collapsed": true
   },
   "outputs": [],
   "source": [
    "df = pd.concat(dfs, ignore_index=True)\n",
    "df['price'] = df.price.apply(lambda x: re.sub(\"[^0-9]\", \"\", x))\n",
    "df['area'] = df.area.apply(lambda x: re.sub(\"[^0-9]\", \"\", x))\n",
    "df['price'] = pd.to_numeric(df.price)\n",
    "df['area'] = pd.to_numeric(df.area)\n",
    "df['price_area_ratio'] = df.price/df.area"
   ]
  },
  {
   "cell_type": "code",
   "execution_count": null,
   "metadata": {
    "collapsed": true,
    "scrolled": false
   },
   "outputs": [],
   "source": [
    "df"
   ]
  },
  {
   "cell_type": "code",
   "execution_count": null,
   "metadata": {
    "collapsed": true
   },
   "outputs": [],
   "source": [
    "df[df.frei_bis == '']"
   ]
  }
 ],
 "metadata": {
  "kernelspec": {
   "display_name": "Python 2",
   "language": "python",
   "name": "python2"
  },
  "language_info": {
   "codemirror_mode": {
    "name": "ipython",
    "version": 2
   },
   "file_extension": ".py",
   "mimetype": "text/x-python",
   "name": "python",
   "nbconvert_exporter": "python",
   "pygments_lexer": "ipython2",
   "version": "2.7.12"
  }
 },
 "nbformat": 4,
 "nbformat_minor": 2
}
